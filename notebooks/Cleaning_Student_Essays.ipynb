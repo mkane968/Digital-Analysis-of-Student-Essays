{
 "cells": [
  {
   "cell_type": "markdown",
   "metadata": {},
   "source": [
    "## Setup"
   ]
  },
  {
   "cell_type": "code",
   "execution_count": null,
   "metadata": {},
   "outputs": [],
   "source": [
    "#Install os and glob\n",
    "import glob \n",
    "import os\n",
    "\n",
    "#Install pandas\n",
    "import pandas as pd\n",
    "\n",
    "#Install numpy\n",
    "import numpy as np\n",
    "\n",
    "#Imports the Natural Language Toolkit, which is necessary to install NLTK packages and libraries\n",
    "#!pip install nltk\n",
    "import nltk\n",
    "\n",
    "#Installs libraries and packages to tokenize text\n",
    "nltk.download('punkt')\n",
    "from nltk.tokenize import sent_tokenize, word_tokenize\n",
    "from  nltk.text import ConcordanceIndex\n",
    "\n",
    "#Installs libraries and packages to clean text\n",
    "nltk.download('stopwords')\n",
    "from nltk.corpus import stopwords\n",
    "from nltk.tokenize import RegexpTokenizer"
   ]
  },
  {
   "cell_type": "code",
   "execution_count": null,
   "metadata": {},
   "outputs": [],
   "source": [
    "##Get current working directory \n",
    "path = os.getcwd()\n",
    "print(path)\n",
    "\n",
    "#Change working directory\n",
    "path = os.chdir(\"/Users/megankane/Desktop/clean_texts\")"
   ]
  },
  {
   "cell_type": "code",
   "execution_count": null,
   "metadata": {},
   "outputs": [],
   "source": [
    "#Append all txt files to pandas dataframe\n",
    "\n",
    "#Make list for filenames and texts\n",
    "filenames = []\n",
    "data = []\n",
    "files = [f for f in os.listdir(path) if os.path.isfile(f)]\n",
    "for f in files:\n",
    "    if f.endswith('.txt'):\n",
    "        with open (f, \"rb\") as myfile:\n",
    "            filenames.append(myfile.name)\n",
    "            data.append(myfile.read())\n",
    "d = {'ID':filenames,'Text':data}\n",
    "        \n",
    "essays = pd.DataFrame(d)\n",
    "essays"
   ]
  },
  {
   "cell_type": "markdown",
   "metadata": {},
   "source": [
    "## Basic Cleaning"
   ]
  },
  {
   "cell_type": "code",
   "execution_count": null,
   "metadata": {},
   "outputs": [],
   "source": [
    "#Remove encoding characters from Text column (b'\\xef\\xbb\\xbf)\n",
    "essays['Text'] = essays['Text'].apply(lambda x: x.decode('utf-8', errors='ignore'))\n",
    "essays['Text'] = essays['Text'].astype(str)\n",
    "\n",
    "#Remove newline characters and put in new column (will need to split paragraphs later)\n",
    "essays['Text_Newlines'] = essays['Text']\n",
    "essays['Text'] = essays['Text'].str.replace(r'\\s+|\\\\r', ' ', regex=True) \n",
    "essays['Text'] = essays['Text'].str.replace(r'\\s+|\\\\n', ' ', regex=True) \n",
    "essays.head()"
   ]
  },
  {
   "cell_type": "code",
   "execution_count": null,
   "metadata": {},
   "outputs": [],
   "source": [
    "#Change text type to strings\n",
    "essays['Text'] = essays['Text'].astype(str)"
   ]
  },
  {
   "cell_type": "code",
   "execution_count": null,
   "metadata": {},
   "outputs": [],
   "source": [
    "#Lowercase all words\n",
    "essays['Lower_Text'] = essays['Text'].str.lower()\n",
    "essays.head()"
   ]
  },
  {
   "cell_type": "code",
   "execution_count": null,
   "metadata": {},
   "outputs": [],
   "source": [
    "#Remove punctuation\n",
    "p = re.compile(r'[^\\w\\s]+')\n",
    "essays['NoPunct_Text'] = [p.sub(' ', x) for x in essays['Lower_Text'].tolist()]\n",
    "essays.head()"
   ]
  },
  {
   "cell_type": "code",
   "execution_count": null,
   "metadata": {},
   "outputs": [],
   "source": [
    "#Remove extraneous whitespace using regular expressions\n",
    "essays['NoPunct_Text'] = essays['NoPunct_Text'] .str.replace('  +', ' ', regex=True)\n",
    "essays.head()"
   ]
  },
  {
   "cell_type": "code",
   "execution_count": null,
   "metadata": {},
   "outputs": [],
   "source": [
    "#Remove numbers and extraneous characters\n",
    "essays['Clean_Text'] = essays['NoPunct_Text'] .str.replace('\\d+', '', regex=True)\n",
    "essays['Clean_Text'] = essays['Clean_Text'] .str.replace('_', '')\n",
    "essays\n"
   ]
  },
  {
   "cell_type": "code",
   "execution_count": null,
   "metadata": {},
   "outputs": [],
   "source": [
    "#Remove stopwords\n",
    "stop_words = set(stopwords.words(\"english\"))\n",
    "essays['Text_NoStops'] = essays['Clean_Text'].apply(lambda x: ' '.join([word for word in x.split() if word not in (stop_words)]))\n",
    "essays"
   ]
  },
  {
   "cell_type": "code",
   "execution_count": null,
   "metadata": {},
   "outputs": [],
   "source": [
    "#Save cleaned dataframe to working directory\n",
    "essays.to_csv('cleaned_essays.csv', index=False)"
   ]
  }
 ],
 "metadata": {
  "kernelspec": {
   "display_name": "Python 3 (ipykernel)",
   "language": "python",
   "name": "python3"
  },
  "language_info": {
   "codemirror_mode": {
    "name": "ipython",
    "version": 3
   },
   "file_extension": ".py",
   "mimetype": "text/x-python",
   "name": "python",
   "nbconvert_exporter": "python",
   "pygments_lexer": "ipython3",
   "version": "3.8.5"
  }
 },
 "nbformat": 4,
 "nbformat_minor": 4
}
